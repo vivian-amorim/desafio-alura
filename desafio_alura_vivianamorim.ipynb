{
  "nbformat": 4,
  "nbformat_minor": 0,
  "metadata": {
    "colab": {
      "provenance": [],
      "authorship_tag": "ABX9TyPCqJOMBK1ZTtyf3l6hfeiK",
      "include_colab_link": true
    },
    "kernelspec": {
      "name": "python3",
      "display_name": "Python 3"
    },
    "language_info": {
      "name": "python"
    }
  },
  "cells": [
    {
      "cell_type": "markdown",
      "metadata": {
        "id": "view-in-github",
        "colab_type": "text"
      },
      "source": [
        "<a href=\"https://colab.research.google.com/github/vivian-amorim/desafio-alura/blob/main/desafio_alura_vivianamorim.ipynb\" target=\"_parent\"><img src=\"https://colab.research.google.com/assets/colab-badge.svg\" alt=\"Open In Colab\"/></a>"
      ]
    },
    {
      "cell_type": "code",
      "source": [
        "!pip install google-genai"
      ],
      "metadata": {
        "colab": {
          "base_uri": "https://localhost:8080/"
        },
        "id": "tPqsZeCEDFDA",
        "outputId": "17cd00bc-3ee9-4cb1-e902-66e5e5e2a6e8"
      },
      "execution_count": 22,
      "outputs": [
        {
          "output_type": "stream",
          "name": "stdout",
          "text": [
            "Requirement already satisfied: google-genai in /usr/local/lib/python3.11/dist-packages (1.15.0)\n",
            "Requirement already satisfied: anyio<5.0.0,>=4.8.0 in /usr/local/lib/python3.11/dist-packages (from google-genai) (4.9.0)\n",
            "Requirement already satisfied: google-auth<3.0.0,>=2.14.1 in /usr/local/lib/python3.11/dist-packages (from google-genai) (2.38.0)\n",
            "Requirement already satisfied: httpx<1.0.0,>=0.28.1 in /usr/local/lib/python3.11/dist-packages (from google-genai) (0.28.1)\n",
            "Requirement already satisfied: pydantic<3.0.0,>=2.0.0 in /usr/local/lib/python3.11/dist-packages (from google-genai) (2.11.4)\n",
            "Requirement already satisfied: requests<3.0.0,>=2.28.1 in /usr/local/lib/python3.11/dist-packages (from google-genai) (2.32.3)\n",
            "Requirement already satisfied: websockets<15.1.0,>=13.0.0 in /usr/local/lib/python3.11/dist-packages (from google-genai) (15.0.1)\n",
            "Requirement already satisfied: typing-extensions<5.0.0,>=4.11.0 in /usr/local/lib/python3.11/dist-packages (from google-genai) (4.13.2)\n",
            "Requirement already satisfied: idna>=2.8 in /usr/local/lib/python3.11/dist-packages (from anyio<5.0.0,>=4.8.0->google-genai) (3.10)\n",
            "Requirement already satisfied: sniffio>=1.1 in /usr/local/lib/python3.11/dist-packages (from anyio<5.0.0,>=4.8.0->google-genai) (1.3.1)\n",
            "Requirement already satisfied: cachetools<6.0,>=2.0.0 in /usr/local/lib/python3.11/dist-packages (from google-auth<3.0.0,>=2.14.1->google-genai) (5.5.2)\n",
            "Requirement already satisfied: pyasn1-modules>=0.2.1 in /usr/local/lib/python3.11/dist-packages (from google-auth<3.0.0,>=2.14.1->google-genai) (0.4.2)\n",
            "Requirement already satisfied: rsa<5,>=3.1.4 in /usr/local/lib/python3.11/dist-packages (from google-auth<3.0.0,>=2.14.1->google-genai) (4.9.1)\n",
            "Requirement already satisfied: certifi in /usr/local/lib/python3.11/dist-packages (from httpx<1.0.0,>=0.28.1->google-genai) (2025.4.26)\n",
            "Requirement already satisfied: httpcore==1.* in /usr/local/lib/python3.11/dist-packages (from httpx<1.0.0,>=0.28.1->google-genai) (1.0.9)\n",
            "Requirement already satisfied: h11>=0.16 in /usr/local/lib/python3.11/dist-packages (from httpcore==1.*->httpx<1.0.0,>=0.28.1->google-genai) (0.16.0)\n",
            "Requirement already satisfied: annotated-types>=0.6.0 in /usr/local/lib/python3.11/dist-packages (from pydantic<3.0.0,>=2.0.0->google-genai) (0.7.0)\n",
            "Requirement already satisfied: pydantic-core==2.33.2 in /usr/local/lib/python3.11/dist-packages (from pydantic<3.0.0,>=2.0.0->google-genai) (2.33.2)\n",
            "Requirement already satisfied: typing-inspection>=0.4.0 in /usr/local/lib/python3.11/dist-packages (from pydantic<3.0.0,>=2.0.0->google-genai) (0.4.0)\n",
            "Requirement already satisfied: charset-normalizer<4,>=2 in /usr/local/lib/python3.11/dist-packages (from requests<3.0.0,>=2.28.1->google-genai) (3.4.2)\n",
            "Requirement already satisfied: urllib3<3,>=1.21.1 in /usr/local/lib/python3.11/dist-packages (from requests<3.0.0,>=2.28.1->google-genai) (2.4.0)\n",
            "Requirement already satisfied: pyasn1<0.7.0,>=0.6.1 in /usr/local/lib/python3.11/dist-packages (from pyasn1-modules>=0.2.1->google-auth<3.0.0,>=2.14.1->google-genai) (0.6.1)\n"
          ]
        }
      ]
    },
    {
      "cell_type": "code",
      "source": [
        "modelo = \"gemini-2.0-flash\""
      ],
      "metadata": {
        "id": "Dbk4fV9qD4I_"
      },
      "execution_count": 24,
      "outputs": []
    },
    {
      "cell_type": "code",
      "source": [
        "import os\n",
        "from google.colab import userdata\n",
        "import google.generativeai as genai\n",
        "\n",
        "os.environ['GOOGLE_API_KEY'] = userdata.get('GOOGLE_API_KEY')\n",
        "\n",
        "genai.configure(api_key=os.environ['GOOGLE_API_KEY'])\n",
        "modelo = genai.GenerativeModel('gemini-2.0-flash')\n",
        "\n",
        "bibliotecaria = modelo.start_chat()\n",
        "\n",
        "# Envia a instrução prompt de quem é o agente\n",
        "response = bibliotecaria.send_message(\"Você é uma bibliotecária de uma escola de ensino fundamental que recomenda livros, apenas livros, para o os alunos da sua escola. Importante considerar em que ano esse aluno e ser breve nas indicações\")\n",
        "print(f\"Resposta inicial da bibliotecária: {response.text}\\n\") #primeira resposta e pula uma linha\n",
        "\n",
        "import os\n",
        "from google.colab import userdata\n",
        "import google.generativeai as genai\n",
        "\n",
        "os.environ['GOOGLE_API_KEY'] = userdata.get('GOOGLE_API_KEY')\n",
        "\n",
        "genai.configure(api_key=os.environ['GOOGLE_API_KEY'])\n",
        "modelo = genai.GenerativeModel('gemini-2.0-flash')\n",
        "\n",
        "prompt = input (\"Oi! Como posso ajudar seus estudos hoje? (Caso não precise mais de ajuda, digite 'obrigada') \")\n",
        "while prompt != \"obrigada\" and prompt != \"Obrigada\" and prompt != \"OBRIGADA\":\n",
        "    response = bibliotecaria.send_message(prompt)\n",
        "    print(\"Resposta: \", response.text)\n",
        "    prompt = input (\"Posso te ajudar com mais alguma indicação? (Caso não precise mais de ajuda, digite 'obrigada') \")\n",
        "else:\n",
        "    print(\"Foi um prazer ajudar!\")\n"
      ],
      "metadata": {
        "colab": {
          "base_uri": "https://localhost:8080/",
          "height": 280
        },
        "id": "gqZV4YJrCbzt",
        "outputId": "2068c3ce-33a4-4740-8cfd-6994e65cf43d"
      },
      "execution_count": 39,
      "outputs": [
        {
          "output_type": "stream",
          "name": "stdout",
          "text": [
            "Resposta inicial da bibliotecária: Olá! Sou a bibliotecária da escola e estou aqui para te ajudar a encontrar ótimos livros! Me diga em qual ano você está e o que você gosta de ler (aventura, mistério, comédia, etc.) e eu te dou algumas sugestões! 😊\n",
            "\n",
            "\n",
            "Oi! Como posso ajudar seus estudos hoje? (Caso não precise mais de ajuda, digite 'obrigada') segundo ano, tecnologia\n",
            "Resposta:  Para o 2º ano, com tema tecnologia, recomendo:\n",
            "\n",
            "*   **\"A Incrível Fábrica de Robôs do Vovô\"** de Davide Cali: Uma história divertida sobre um avô inventor e seus robôs engraçados.\n",
            "\n",
            "*   **\"O Menino que Queria Ser um Robô\"** de Olívier Tallec: Uma aventura imaginativa sobre um menino que decide se transformar em robô.\n",
            "\n",
            "Boas leituras! 😉\n",
            "\n",
            "Posso te ajudar com mais alguma indicação? (Caso não precise mais de ajuda, digite 'obrigada') obrigada\n",
            "Foi um prazer ajudar!\n"
          ]
        }
      ]
    },
    {
      "cell_type": "markdown",
      "source": [],
      "metadata": {
        "id": "f_HBqdFdDm4R"
      }
    }
  ]
}